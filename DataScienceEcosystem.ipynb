{
 "cells": [
  {
   "cell_type": "markdown",
   "id": "a65722ca-dce6-4556-9bfc-ca8886889e96",
   "metadata": {},
   "source": [
    "# Data Science Tools and Ecosystem"
   ]
  },
  {
   "cell_type": "markdown",
   "id": "3ffc7b6c-02d8-4334-833d-781c6400264c",
   "metadata": {},
   "source": [
    "In this notebook, Data Science Tools and Ecosystem are summarized."
   ]
  },
  {
   "cell_type": "markdown",
   "id": "1deb39f8-eb55-4bef-bcf5-360f1a818695",
   "metadata": {},
   "source": [
    "__Objectives:__"
   ]
  },
  {
   "cell_type": "markdown",
   "id": "4902a8d8-f29f-4cc0-900c-96d49b6608fd",
   "metadata": {},
   "source": [
    "- Popular languages for DS\n",
    "- Common libraries for DS\n",
    "- Data Science tools\n",
    "- Arithmetic expressions"
   ]
  },
  {
   "cell_type": "markdown",
   "id": "33bb9908-cb1c-465d-839c-e3bb298e7fa5",
   "metadata": {},
   "source": [
    "Some of the popular languages that Data Scientists use are:"
   ]
  },
  {
   "cell_type": "markdown",
   "id": "f4171436-b020-4967-a67b-d45298e130eb",
   "metadata": {},
   "source": [
    "1. Python\n",
    "2. Java\n",
    "3. C\n",
    "4. C++"
   ]
  },
  {
   "cell_type": "markdown",
   "id": "2df8486c-8c83-470b-80c4-ffa9afff616d",
   "metadata": {},
   "source": [
    "Some of the commonly used libraries used by Data Scientists include:"
   ]
  },
  {
   "cell_type": "markdown",
   "id": "05a947c1-637f-4eaf-a770-ffbcac45fd10",
   "metadata": {},
   "source": [
    "1. Pandas\n",
    "2. NumPy\n",
    "3. Keras"
   ]
  },
  {
   "cell_type": "markdown",
   "id": "13894ed5-2662-4db0-acd0-dbc3f848fe08",
   "metadata": {},
   "source": [
    "|Data Science Tools|\n",
    "|------------------|\n",
    "|Jupyter Notebook|\n",
    "|R Studio|\n",
    "|Spyder|\n"
   ]
  },
  {
   "cell_type": "markdown",
   "id": "e519cc44-d0e8-4885-abc5-b48cf066be0f",
   "metadata": {},
   "source": [
    "### Below are a few examples of evaluating arithmetic expressions in PythonThis a simple arithmetic expression to mutiply then add integers"
   ]
  },
  {
   "cell_type": "markdown",
   "id": "0ed0a422-6db3-4921-8f72-63b89e659b83",
   "metadata": {},
   "source": [
    "This a simple arithmetic expression to mutiply then add integers"
   ]
  },
  {
   "cell_type": "code",
   "execution_count": 5,
   "id": "ef0a5f12-8a10-414f-ad48-8784b64cd966",
   "metadata": {},
   "outputs": [
    {
     "data": {
      "text/plain": [
       "17"
      ]
     },
     "execution_count": 5,
     "metadata": {},
     "output_type": "execute_result"
    }
   ],
   "source": [
    "(3*4)+5"
   ]
  },
  {
   "cell_type": "code",
   "execution_count": 6,
   "id": "18b3907c-9969-4cb6-9169-0e5bab1f27d8",
   "metadata": {},
   "outputs": [],
   "source": [
    "# This will convert 200 minutes to hours by diving by 60"
   ]
  },
  {
   "cell_type": "code",
   "execution_count": 7,
   "id": "93c57b4d-31ce-45fb-8360-ad86b73a00a4",
   "metadata": {},
   "outputs": [
    {
     "data": {
      "text/plain": [
       "3.3333333333333335"
      ]
     },
     "execution_count": 7,
     "metadata": {},
     "output_type": "execute_result"
    }
   ],
   "source": [
    "200/60"
   ]
  },
  {
   "cell_type": "markdown",
   "id": "656e1141-76eb-49c6-8f2f-ab2f5268d1a6",
   "metadata": {},
   "source": [
    "## Author"
   ]
  },
  {
   "cell_type": "markdown",
   "id": "05f255f8-c2df-4952-949f-4eae435d1a5d",
   "metadata": {},
   "source": [
    "Anastasia"
   ]
  },
  {
   "cell_type": "code",
   "execution_count": null,
   "id": "ae811092-e127-42c9-b829-b40de3533db8",
   "metadata": {},
   "outputs": [],
   "source": []
  }
 ],
 "metadata": {
  "kernelspec": {
   "display_name": "Python",
   "language": "python",
   "name": "conda-env-python-py"
  },
  "language_info": {
   "codemirror_mode": {
    "name": "ipython",
    "version": 3
   },
   "file_extension": ".py",
   "mimetype": "text/x-python",
   "name": "python",
   "nbconvert_exporter": "python",
   "pygments_lexer": "ipython3",
   "version": "3.7.12"
  }
 },
 "nbformat": 4,
 "nbformat_minor": 5
}
